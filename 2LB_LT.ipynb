{
 "cells": [
  {
   "cell_type": "code",
   "execution_count": 80,
   "metadata": {},
   "outputs": [],
   "source": [
    "import random\n",
    "import math\n",
    "import matplotlib.pyplot as plt\n",
    "start = [random.randint(1,50) for _ in range(16)]\n",
    "x = 15\n",
    "y = 0\n",
    "kolvo = 2500\n",
    "while len(start) < kolvo:\n",
    "    new_ch = ((start[x] + start[y]) % 512) # 2**9\n",
    "    start.append(new_ch)\n",
    "    x += 1\n",
    "    y += 1\n",
    "z_list =[]\n",
    "i = 0\n",
    "for i in range(len(start)):\n",
    "    z = start[i] / 512\n",
    "    z_list.append(z)"
   ]
  },
  {
   "cell_type": "code",
   "execution_count": 81,
   "metadata": {},
   "outputs": [],
   "source": [
    "def plot_hist(a, bins=20, **kwargs):\n",
    "    left, width = 1, 1.65\n",
    "    bottom, height = 1, 1.65\n",
    "    spacing = 0.005\n",
    "    rect_histx = [left, bottom + height + spacing, width, 1]\n",
    "    ax_histx = plt.axes(rect_histx)\n",
    "    ax_histx.grid(True)\n",
    "    ax_histx.tick_params(direction='in', labelbottom=True)\n",
    "    ax_histx.hist(a, bins, stacked=True, **kwargs)\n",
    "    \n",
    "    plt.show()"
   ]
  },
  {
   "cell_type": "code",
   "execution_count": 82,
   "metadata": {},
   "outputs": [
    {
     "data": {
      "image/png": "[encoded data removed]",
      "text/plain": [
       "<Figure size 432x288 with 1 Axes>"
      ]
     },
     "metadata": {
      "needs_background": "light"
     },
     "output_type": "display_data"
    }
   ],
   "source": [
    "from math import log\n",
    "xx = []\n",
    "lambd = 100  # 0.01\n",
    "for zz in z_list:\n",
    "    try:\n",
    "        xx.append((-1/lambd) * log(zz))\n",
    "    except:\n",
    "        pass\n",
    "\n",
    "plot_hist(xx, bins=100)"
   ]
  },
  {
   "cell_type": "code",
   "execution_count": 83,
   "metadata": {},
   "outputs": [
    {
     "name": "stdout",
     "output_type": "stream",
     "text": [
      "Экпериментальное Мат. ожидание равно: 0.009699720720785196\n",
      "Теоритическое Мат. ожидание равно: 0.01\n",
      "Теор Дисперсия: 0.02\n",
      "Экспериментальная Дисперсия равна: 9.124921369707584e-05\n"
     ]
    }
   ],
   "source": [
    "m = math.fsum(xx) / kolvo # экпериментальная\n",
    "print(\"Экпериментальное Мат. ожидание равно: {}\".format(m))\n",
    "\n",
    "mm = 1 / lambd\n",
    "print(\"Теоритическое Мат. ожидание равно: {}\".format(mm))\n",
    "\n",
    "d = 1 / lambd*2\n",
    "print(\"Теор Дисперсия: {}\".format(d))\n",
    "\n",
    "result = 0\n",
    "for i in range(len(xx)):\n",
    "    result += ((xx[i] - m) **2)\n",
    "dd = result / kolvo\n",
    "print(\"Экспериментальная Дисперсия равна: {}\".format(dd))"
   ]
  },
  {
   "cell_type": "code",
   "execution_count": 84,
   "metadata": {},
   "outputs": [
    {
     "data": {
      "image/png": "[encoded data removed]",
      "text/plain": [
       "<Figure size 432x288 with 1 Axes>"
      ]
     },
     "metadata": {
      "needs_background": "light"
     },
     "output_type": "display_data"
    }
   ],
   "source": [
    "A = 10\n",
    "B = 20\n",
    "xx = []\n",
    "for zz in z_list:\n",
    "    xx.append(zz * (B - A) + A)\n",
    "\n",
    "plot_hist(xx, bins=10)"
   ]
  },
  {
   "cell_type": "code",
   "execution_count": 85,
   "metadata": {},
   "outputs": [
    {
     "name": "stdout",
     "output_type": "stream",
     "text": [
      "Теоритическое Мат. ожидание равно: 15.0\n",
      "Теоритическая Дисперсия равна: 8.333333333333334\n",
      "Экпериментальное Мат. ожидание равно: 15.041296875\n",
      "Экпериментальная Дисперсия равна: 0.09034565585555406\n"
     ]
    }
   ],
   "source": [
    "m = (A+(B-A)/2)\n",
    "print(\"Теоритическое Мат. ожидание равно: {}\".format(m))\n",
    "D = ((B - A) ** 2)/12\n",
    "print(\"Теоритическая Дисперсия равна: {}\".format(D))\n",
    "\n",
    "mm = math.fsum(xx) / kolvo # экпериментальная\n",
    "print(\"Экпериментальное Мат. ожидание равно: {}\".format(mm))\n",
    "\n",
    "lambd = 100\n",
    "suma = 0\n",
    "from math import log\n",
    "for z in xx:\n",
    "    xum = (-1/lambd) * log(z)\n",
    "    suma = (xum - m) ** 2\n",
    "    suma /= kolvo\n",
    "print(\"Экпериментальная Дисперсия равна: {}\".format(suma))"
   ]
  },
  {
   "cell_type": "code",
   "execution_count": 86,
   "metadata": {},
   "outputs": [
    {
     "data": {
      "image/png": "[encoded data removed]",
      "text/plain": [
       "<Figure size 432x288 with 1 Axes>"
      ]
     },
     "metadata": {
      "needs_background": "light"
     },
     "output_type": "display_data"
    }
   ],
   "source": [
    "from math import sin, cos\n",
    "from math import sqrt\n",
    "from math import log\n",
    "pi = 3.14\n",
    "xx = []\n",
    "for num, zz in enumerate(z_list):\n",
    "    if num + 1 < len(z_list):\n",
    "        sinus = sin(2 * pi * z_list[num+1])\n",
    "        cosinus = cos(2 * pi * z_list[num+1])\n",
    "        try:\n",
    "            logarifm = log(zz)\n",
    "            x1 = (-2 * logarifm)\n",
    "            x2 = (-2 * logarifm)\n",
    "            xx.append(sinus * sqrt(x1))\n",
    "            xx.append(cosinus * sqrt(x2))\n",
    "        except:\n",
    "            pass\n",
    "\n",
    "plot_hist(xx, bins=50)"
   ]
  },
  {
   "cell_type": "code",
   "execution_count": 87,
   "metadata": {},
   "outputs": [
    {
     "name": "stdout",
     "output_type": "stream",
     "text": [
      "Экпериментальное Мат. ожидание равно: 0.0058556962370232305\n"
     ]
    }
   ],
   "source": [
    "m = math.fsum(xx) / kolvo # экпериментальная\n",
    "print(\"Экпериментальное Мат. ожидание равно: {}\".format(m))"
   ]
  },
  {
   "cell_type": "code",
   "execution_count": 88,
   "metadata": {},
   "outputs": [
    {
     "name": "stdout",
     "output_type": "stream",
     "text": [
      "Дисперсия равна: 1.9397423991791483\n"
     ]
    }
   ],
   "source": [
    "result = 0\n",
    "for i in range(len(xx)):\n",
    "    result += (xx[i] - m) ** 2\n",
    "d = result / kolvo\n",
    "print(\"Дисперсия равна: {}\".format(d))"
   ]
  }
 ],
 "metadata": {
  "kernelspec": {
   "display_name": "Python 3",
   "language": "python",
   "name": "python3"
  },
  "language_info": {
   "codemirror_mode": {
    "name": "ipython",
    "version": 3
   },
   "file_extension": ".py",
   "mimetype": "text/x-python",
   "name": "python",
   "nbconvert_exporter": "python",
   "pygments_lexer": "ipython3",
   "version": "3.7.4"
  },
  "pycharm": {
   "stem_cell": {
    "cell_type": "raw",
    "metadata": {
     "collapsed": false
    },
    "source": []
   }
  }
 },
 "nbformat": 4,
 "nbformat_minor": 1
}
