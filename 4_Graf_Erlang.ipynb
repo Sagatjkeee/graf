{
 "cells": [
  {
   "cell_type": "code",
   "execution_count": 17,
   "metadata": {},
   "outputs": [],
   "source": [
    "import random\n",
    "import matplotlib.pyplot as plt\n",
    "\n",
    "start = [random.randint(1,50) for _ in range(16)]\n",
    "x = 15\n",
    "y = 0\n",
    "kolvo = 2500\n",
    "\n",
    "while len(start) < kolvo:\n",
    "    new_ch = ((start[x] + start[y]) % 512) # 2**9\n",
    "    start.append(new_ch)\n",
    "    x += 1\n",
    "    y += 1\n",
    "z_list =[]\n",
    "i = 0\n",
    "\n",
    "for i in range(len(start)):\n",
    "    z = start[i] / 512\n",
    "    z_list.append(z)\n",
    "\n",
    "def plot_hist(a, bins=20, **kwargs):\n",
    "    left, width = 1, 1.65\n",
    "    bottom, height = 1, 1.65\n",
    "    spacing = 0.005\n",
    "    rect_histx = [left, bottom + height + spacing, width, 1]\n",
    "    ax_histx = plt.axes(rect_histx)\n",
    "    ax_histx.grid(True)\n",
    "    ax_histx.tick_params(direction='in', labelbottom=True)\n",
    "    ax_histx.hist(a, bins, stacked=True, **kwargs)\n",
    "    \n",
    "    plt.show()\n",
    "\n",
    "from math import log\n",
    "xx = []\n",
    "lambd = 100  # 0.01\n",
    "for zz in z_list:\n",
    "    try:\n",
    "        xx.append((-1/lambd) * log(zz))\n",
    "    except:\n",
    "        pass"
   ]
  },
  {
   "cell_type": "code",
   "execution_count": 18,
   "metadata": {},
   "outputs": [
    {
     "data": {
      "image/png": "[encoded data removed]",
      "text/plain": [
       "<Figure size 432x288 with 1 Axes>"
      ]
     },
     "metadata": {
      "needs_background": "light"
     },
     "output_type": "display_data"
    }
   ],
   "source": [
    "new_list =[]\n",
    "result = 0\n",
    "\n",
    "for num in range(len(xx)):\n",
    "    if num + 2 < len(xx):\n",
    "        result = (xx[num]+xx[num+1]+xx[num+2])\n",
    "        new_list.append(result)\n",
    "        result = 0\n",
    "\n",
    "plot_hist(new_list, bins=100)"
   ]
  }
 ],
 "metadata": {
  "kernelspec": {
   "display_name": "Python 3",
   "language": "python",
   "name": "python3"
  },
  "language_info": {
   "codemirror_mode": {
    "name": "ipython",
    "version": 3
   },
   "file_extension": ".py",
   "mimetype": "text/x-python",
   "name": "python",
   "nbconvert_exporter": "python",
   "pygments_lexer": "ipython3",
   "version": "3.7.4"
  }
 },
 "nbformat": 4,
 "nbformat_minor": 2
}
