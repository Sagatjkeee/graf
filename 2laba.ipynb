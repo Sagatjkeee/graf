{
 "cells": [
  {
   "cell_type": "code",
   "execution_count": 30,
   "metadata": {},
   "outputs": [
    {
     "name": "stdout",
     "output_type": "stream",
     "text": [
      "[1, 73, 16, 98, 93, 11, 31, 34, 14, 27, 30, 43, 69, 28, 68, 7]\n"
     ]
    }
   ],
   "source": [
    "import random\n",
    "import math\n",
    "import matplotlib.pyplot as plt\n",
    "\n",
    "i = 0\n",
    "a = []\n",
    "while i < 16:\n",
    "    ch = (random.randrange(100))\n",
    "    a.append(ch)\n",
    "    i += 1\n",
    "print(a)\n",
    "x = 15\n",
    "y = 0\n",
    "i1 = 0\n",
    "aa = []\n",
    "while i1 < 484:\n",
    "    b = ((a[x] + a[y]) % 512)\n",
    "    x += 1\n",
    "    y += 1\n",
    "    i1 += 1\n",
    "    aa.append(b)\n",
    "    a.append(b)\n",
    "aaa = []\n",
    "t = 0\n",
    "j = 0\n",
    "while t < len(a):\n",
    "    g = (a[j] / 512)\n",
    "    j += 1\n",
    "    t += 1\n",
    "    aaa.append(g)"
   ]
  },
  {
   "cell_type": "code",
   "execution_count": 31,
   "metadata": {},
   "outputs": [],
   "source": [
    "import matplotlib.pyplot as plt\n",
    "\n",
    "def plot_hist(a, bins=20):\n",
    "    left, width = 1, 1.65\n",
    "    bottom, height = 1, 1.65\n",
    "    spacing = 0.005\n",
    "    rect_histx = [left, bottom + height + spacing, width, 1]\n",
    "    ax_histx = plt.axes(rect_histx)\n",
    "    ax_histx.grid(True)\n",
    "    ax_histx.tick_params(direction='in', labelbottom=False)\n",
    "    ax_histx.hist(a, bins, stacked=True)\n",
    "    \n",
    "    plt.show()"
   ]
  },
  {
   "cell_type": "code",
   "execution_count": 32,
   "metadata": {},
   "outputs": [
    {
     "data": {
      "image/png": "[encoded data removed]",
      "text/plain": [
       "<Figure size 432x288 with 1 Axes>"
      ]
     },
     "metadata": {
      "needs_background": "light"
     },
     "output_type": "display_data"
    }
   ],
   "source": [
    "from math import log\n",
    "xx = []\n",
    "lambd = 100 # 0.01\n",
    "for z in aaa:\n",
    "    #print(log(z))\n",
    "    #xx.append((-1/lambd) * log(z))\n",
    "    loga = log(z)\n",
    "    ss = (-1/lambd)\n",
    "    xx.append(ss * loga)\n",
    "\n",
    "plot_hist(xx, bins=100)"
   ]
  },
  {
   "cell_type": "code",
   "execution_count": 39,
   "metadata": {},
   "outputs": [
    {
     "name": "stdout",
     "output_type": "stream",
     "text": [
      "Экпериментальное Мат. ожидание равно: 0.07231964805628834\n",
      "Теоритическое Мат. ожидание равно: 0.01\n",
      "Теор Дисперсия: 0.02\n"
     ]
    }
   ],
   "source": [
    "m = math.fsum(xx) / 500 # экпериментальная\n",
    "print(\"Экпериментальное Мат. ожидание равно: {}\".format(m))\n",
    "\n",
    "mm = 1 / lambd\n",
    "print(\"Теоритическое Мат. ожидание равно: {}\".format(mm))\n",
    "\n",
    "d = 1 / lambd*2\n",
    "print(\"Теор Дисперсия: {}\".format(d))\n"
   ]
  },
  {
   "cell_type": "code",
   "execution_count": 40,
   "metadata": {},
   "outputs": [
    {
     "name": "stdout",
     "output_type": "stream",
     "text": [
      "Экспериментальная Дисперсия равна: 2.1495781481784015\n"
     ]
    }
   ],
   "source": [
    "result = 0\n",
    "for i in range(len(xx)):\n",
    "    result += ((xx[i] - mm) **2)\n",
    "dd = result / 500\n",
    "print(\"Экспериментальная Дисперсия равна: {}\".format(dd))"
   ]
  },
  {
   "cell_type": "code",
   "execution_count": 33,
   "metadata": {},
   "outputs": [
    {
     "data": {
      "image/png": "[encoded data removed]",
      "text/plain": [
       "<Figure size 432x288 with 1 Axes>"
      ]
     },
     "metadata": {
      "needs_background": "light"
     },
     "output_type": "display_data"
    }
   ],
   "source": [
    "A = 10\n",
    "B = 20\n",
    "xx = []\n",
    "for z in aaa:\n",
    "    xx.append(z * (B - A) + A)\n",
    "\n",
    "plot_hist(xx, bins=20)"
   ]
  },
  {
   "cell_type": "code",
   "execution_count": 34,
   "metadata": {},
   "outputs": [
    {
     "name": "stdout",
     "output_type": "stream",
     "text": [
      " Теоритическое Мат. ожидание равно: 15.0\n",
      " Теоритическая Дисперсия равна: 8.333333333333334\n",
      " Экпериментальное Мат. ожидание равно: 14.84234375\n"
     ]
    }
   ],
   "source": [
    "m = (A+(B-A)/2)\n",
    "print(\" Теоритическое Мат. ожидание равно: {}\".format(m))\n",
    "D = ((B - A) ** 2)/12\n",
    "print(\" Теоритическая Дисперсия равна: {}\".format(D))\n",
    "\n",
    "mm = math.fsum(xx) / 500 # экпериментальная\n",
    "print(\" Экпериментальное Мат. ожидание равно: {}\".format(mm))"
   ]
  },
  {
   "cell_type": "code",
   "execution_count": 35,
   "metadata": {},
   "outputs": [
    {
     "name": "stdout",
     "output_type": "stream",
     "text": [
      "Экпериментальная Дисперсия равна: 0.45150342011687944\n"
     ]
    }
   ],
   "source": [
    "lambd = 100\n",
    "suma = 0\n",
    "from math import log\n",
    "for z in xx:\n",
    "    xum = (-1/lambd) * log(z)\n",
    "    suma = (xum - m) ** 2\n",
    "    suma /= 500\n",
    "print(\"Экпериментальная Дисперсия равна: {}\".format(suma))"
   ]
  },
  {
   "cell_type": "code",
   "execution_count": 36,
   "metadata": {},
   "outputs": [
    {
     "data": {
      "image/png": "[encoded data removed]",
      "text/plain": [
       "<Figure size 432x288 with 1 Axes>"
      ]
     },
     "metadata": {
      "needs_background": "light"
     },
     "output_type": "display_data"
    }
   ],
   "source": [
    "from math import sin, cos\n",
    "from math import sqrt\n",
    "from math import log\n",
    "pi = 3.14\n",
    "xx = []\n",
    "for num, z in enumerate(aaa):\n",
    "    if num + 1 < len(aaa):\n",
    "        sinus = sin(2 * pi * aaa[num+1])\n",
    "        cosinus = cos(2 * pi * aaa[num+1])\n",
    "        try:\n",
    "            logarifm = log(z)\n",
    "        except:\n",
    "            pass\n",
    "        x1 = (-2 * logarifm)\n",
    "        x2 = (-2 * logarifm)\n",
    "        xx.append(sinus * sqrt(x1))\n",
    "        xx.append(cosinus * sqrt(x2))\n",
    "\n",
    "plot_hist(xx, bins=50)"
   ]
  },
  {
   "cell_type": "code",
   "execution_count": 37,
   "metadata": {},
   "outputs": [
    {
     "name": "stdout",
     "output_type": "stream",
     "text": [
      " Экпериментальное Мат. ожидание равно: 0.07231964805628834\n"
     ]
    }
   ],
   "source": [
    "mm = math.fsum(xx) / 500 # экпериментальная\n",
    "print(\" Экпериментальное Мат. ожидание равно: {}\".format(mm))"
   ]
  },
  {
   "cell_type": "code",
   "execution_count": null,
   "metadata": {},
   "outputs": [],
   "source": []
  }
 ],
 "metadata": {
  "kernelspec": {
   "display_name": "Python 3",
   "language": "python",
   "name": "python3"
  },
  "language_info": {
   "codemirror_mode": {
    "name": "ipython",
    "version": 3
   },
   "file_extension": ".py",
   "mimetype": "text/x-python",
   "name": "python",
   "nbconvert_exporter": "python",
   "pygments_lexer": "ipython3",
   "version": "3.7.4"
  }
 },
 "nbformat": 4,
 "nbformat_minor": 2
}
