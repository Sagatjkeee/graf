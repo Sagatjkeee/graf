{
 "cells": [
  {
   "cell_type": "code",
   "execution_count": 2,
   "metadata": {},
   "outputs": [
    {
     "name": "stdout",
     "output_type": "stream",
     "text": [
      "[65, 23, 50, 61, 93, 12, 92, 4, 87, 19, 72, 86, 32, 38, 12, 38]\n"
     ]
    }
   ],
   "source": [
    "import random\n",
    "import math\n",
    "import matplotlib.pyplot as plt\n",
    "\n",
    "i = 0\n",
    "a = []\n",
    "while i < 16:\n",
    "    ch = (random.randrange(100))\n",
    "    a.append(ch)\n",
    "    i += 1\n",
    "print(a)\n",
    "x = 15\n",
    "y = 0\n",
    "i1 = 0\n",
    "aa = []\n",
    "while i1 < 484:\n",
    "    b = ((a[x] + a[y]) % 512)\n",
    "    #print(b)\n",
    "    x += 1\n",
    "    y += 1\n",
    "    i1 += 1\n",
    "    #print(b)\n",
    "    aa.append(b)\n",
    "    a.append(b)\n",
    "aaa = []\n",
    "t = 0\n",
    "j = 0\n",
    "while t < len(a):\n",
    "    g = (a[j] / 512)\n",
    "    j += 1\n",
    "    t += 1\n",
    "    aaa.append(g)"
   ]
  },
  {
   "cell_type": "code",
   "execution_count": 11,
   "metadata": {},
   "outputs": [],
   "source": [
    "import matplotlib.pyplot as plt\n",
    "\n",
    "def plot_hist(a, bins=20):\n",
    "    left, width = 1, 1.65\n",
    "    bottom, height = 1, 1.65\n",
    "    spacing = 0.005\n",
    "    rect_histx = [left, bottom + height + spacing, width, 1]\n",
    "    ax_histx = plt.axes(rect_histx)\n",
    "    ax_histx.grid(True)\n",
    "    ax_histx.tick_params(direction='in', labelbottom=False)\n",
    "    ax_histx.hist(a, bins, stacked=True)\n",
    "    \n",
    "    plt.show()"
   ]
  },
  {
   "cell_type": "code",
   "execution_count": 12,
   "metadata": {},
   "outputs": [
    {
     "data": {
      "image/png": "[encoded data removed]",
      "text/plain": [
       "<Figure size 432x288 with 1 Axes>"
      ]
     },
     "metadata": {
      "needs_background": "light"
     },
     "output_type": "display_data"
    }
   ],
   "source": [
    "from math import sin, cos\n",
    "from math import sqrt\n",
    "from math import log\n",
    "pi = 3.14\n",
    "xx = []\n",
    "for num, z in enumerate(aaa):\n",
    "    if num + 1 < len(aaa):\n",
    "        sinus = sin(2 * pi * aaa[num+1])\n",
    "        cosinus = cos(2 * pi * aaa[num+1])\n",
    "        try:\n",
    "            logarifm = log(z)\n",
    "        except:\n",
    "            pass\n",
    "        x1 = (-2 * logarifm)\n",
    "        x2 = (-2 * logarifm)\n",
    "        xx.append(sinus * sqrt(x1))\n",
    "        xx.append(cosinus * sqrt(x2))\n",
    "plot_hist(xx, bins=50)"
   ]
  },
  {
   "cell_type": "code",
   "execution_count": null,
   "metadata": {},
   "outputs": [],
   "source": []
  },
  {
   "cell_type": "code",
   "execution_count": null,
   "metadata": {},
   "outputs": [],
   "source": []
  }
 ],
 "metadata": {
  "kernelspec": {
   "display_name": "Python 3",
   "language": "python",
   "name": "python3"
  },
  "language_info": {
   "codemirror_mode": {
    "name": "ipython",
    "version": 3
   },
   "file_extension": ".py",
   "mimetype": "text/x-python",
   "name": "python",
   "nbconvert_exporter": "python",
   "pygments_lexer": "ipython3",
   "version": "3.7.4"
  }
 },
 "nbformat": 4,
 "nbformat_minor": 2
}
